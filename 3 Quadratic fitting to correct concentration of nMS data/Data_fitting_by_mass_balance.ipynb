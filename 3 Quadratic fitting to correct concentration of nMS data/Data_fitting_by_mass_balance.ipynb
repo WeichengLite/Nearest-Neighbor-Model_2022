{
 "cells": [
  {
   "cell_type": "code",
   "execution_count": 2,
   "metadata": {},
   "outputs": [
    {
     "data": {
      "text/html": [
       "<div>\n",
       "<style scoped>\n",
       "    .dataframe tbody tr th:only-of-type {\n",
       "        vertical-align: middle;\n",
       "    }\n",
       "\n",
       "    .dataframe tbody tr th {\n",
       "        vertical-align: top;\n",
       "    }\n",
       "\n",
       "    .dataframe thead th {\n",
       "        text-align: right;\n",
       "    }\n",
       "</style>\n",
       "<table border=\"1\" class=\"dataframe\">\n",
       "  <thead>\n",
       "    <tr style=\"text-align: right;\">\n",
       "      <th></th>\n",
       "      <th>Lt</th>\n",
       "      <th>Y</th>\n",
       "    </tr>\n",
       "  </thead>\n",
       "  <tbody>\n",
       "    <tr>\n",
       "      <th>0</th>\n",
       "      <td>0.000000</td>\n",
       "      <td>0.000000</td>\n",
       "    </tr>\n",
       "    <tr>\n",
       "      <th>1</th>\n",
       "      <td>0.000005</td>\n",
       "      <td>0.038896</td>\n",
       "    </tr>\n",
       "    <tr>\n",
       "      <th>2</th>\n",
       "      <td>0.000015</td>\n",
       "      <td>0.146651</td>\n",
       "    </tr>\n",
       "    <tr>\n",
       "      <th>3</th>\n",
       "      <td>0.000025</td>\n",
       "      <td>0.333463</td>\n",
       "    </tr>\n",
       "    <tr>\n",
       "      <th>4</th>\n",
       "      <td>0.000035</td>\n",
       "      <td>0.372872</td>\n",
       "    </tr>\n",
       "    <tr>\n",
       "      <th>5</th>\n",
       "      <td>0.000045</td>\n",
       "      <td>0.568008</td>\n",
       "    </tr>\n",
       "    <tr>\n",
       "      <th>6</th>\n",
       "      <td>0.000055</td>\n",
       "      <td>0.596083</td>\n",
       "    </tr>\n",
       "    <tr>\n",
       "      <th>7</th>\n",
       "      <td>0.000065</td>\n",
       "      <td>0.691324</td>\n",
       "    </tr>\n",
       "    <tr>\n",
       "      <th>8</th>\n",
       "      <td>0.000075</td>\n",
       "      <td>0.800822</td>\n",
       "    </tr>\n",
       "    <tr>\n",
       "      <th>9</th>\n",
       "      <td>0.000085</td>\n",
       "      <td>0.902188</td>\n",
       "    </tr>\n",
       "    <tr>\n",
       "      <th>10</th>\n",
       "      <td>0.000095</td>\n",
       "      <td>0.922150</td>\n",
       "    </tr>\n",
       "    <tr>\n",
       "      <th>11</th>\n",
       "      <td>0.000110</td>\n",
       "      <td>0.975808</td>\n",
       "    </tr>\n",
       "    <tr>\n",
       "      <th>12</th>\n",
       "      <td>0.000165</td>\n",
       "      <td>0.990871</td>\n",
       "    </tr>\n",
       "  </tbody>\n",
       "</table>\n",
       "</div>"
      ],
      "text/plain": [
       "          Lt         Y\n",
       "0   0.000000  0.000000\n",
       "1   0.000005  0.038896\n",
       "2   0.000015  0.146651\n",
       "3   0.000025  0.333463\n",
       "4   0.000035  0.372872\n",
       "5   0.000045  0.568008\n",
       "6   0.000055  0.596083\n",
       "7   0.000065  0.691324\n",
       "8   0.000075  0.800822\n",
       "9   0.000085  0.902188\n",
       "10  0.000095  0.922150\n",
       "11  0.000110  0.975808\n",
       "12  0.000165  0.990871"
      ]
     },
     "execution_count": 2,
     "metadata": {},
     "output_type": "execute_result"
    }
   ],
   "source": [
    "import matplotlib.pyplot as plt\n",
    "import pandas as pd\n",
    "from lmfit import Model, Parameter, report_fit\n",
    "\n",
    "df = pd.read_csv(\"BhaWT_20210208.csv\", comment='#')\n",
    "df.columns = ['Lt','Y']\n",
    "df\n"
   ]
  },
  {
   "cell_type": "code",
   "execution_count": 4,
   "metadata": {},
   "outputs": [
    {
     "data": {
      "text/plain": [
       "(0.0, 0.00013)"
      ]
     },
     "execution_count": 4,
     "metadata": {},
     "output_type": "execute_result"
    },
    {
     "data": {
      "image/png": "[encoded data removed]",
      "text/plain": [
       "<Figure size 432x288 with 1 Axes>"
      ]
     },
     "metadata": {
      "needs_background": "light"
     },
     "output_type": "display_data"
    }
   ],
   "source": [
    "from matplotlib.axes._axes import _log as matplotlib_axes_logger\n",
    "matplotlib_axes_logger.setLevel('ERROR')\n",
    "\n",
    "df.plot(x = 'Lt', y = 'Y', kind ='scatter')\n",
    "plt.xlim([0.000000, 0.00013])"
   ]
  },
  {
   "cell_type": "code",
   "execution_count": 5,
   "metadata": {},
   "outputs": [
    {
     "name": "stdout",
     "output_type": "stream",
     "text": [
      "Name     Value      Min      Max   Stderr     Vary     Expr Brute_Step\n",
      "Kd  1.058e-06     -inf      inf 5.422e-07     True     None     None\n",
      "Mt  8.661e-05     -inf      inf 3.029e-06     True     None     None\n"
     ]
    }
   ],
   "source": [
    "def quadratic(x, Mt, Kd):  \n",
    "  return ((Kd+x+Mt)-((Kd+x+Mt)**2-4*x*Mt)**0.5)/(2*Mt)\n",
    "\n",
    "model = Model(quadratic, independent_vars=['x'])\n",
    "Kd=1e-7; Mt=6e-5\n",
    "result = model.fit(df.Y, x=df.Lt, Kd=Kd, Mt=Mt)  \n",
    "\n",
    "# fitted with both Kd and Mt against quadratic model. The valid result of Mt can be only accepted when fitted Kd is reasonable.\n",
    "\n",
    "result.params.pretty_print()"
   ]
  },
  {
   "cell_type": "code",
   "execution_count": 6,
   "metadata": {
    "scrolled": true
   },
   "outputs": [
    {
     "data": {
      "image/png": "[encoded data removed]",
      "text/plain": [
       "<Figure size 432x432 with 2 Axes>"
      ]
     },
     "metadata": {
      "needs_background": "light"
     },
     "output_type": "display_data"
    }
   ],
   "source": [
    "result.plot(numpoints=100)\n",
    "plt.savefig('figure_massbalance.pdf', dpi=300)"
   ]
  },
  {
   "cell_type": "code",
   "execution_count": null,
   "metadata": {},
   "outputs": [],
   "source": []
  }
 ],
 "metadata": {
  "kernelspec": {
   "display_name": "Python 3",
   "language": "python",
   "name": "python3"
  },
  "language_info": {
   "codemirror_mode": {
    "name": "ipython",
    "version": 3
   },
   "file_extension": ".py",
   "mimetype": "text/x-python",
   "name": "python",
   "nbconvert_exporter": "python",
   "pygments_lexer": "ipython3",
   "version": "3.7.6"
  }
 },
 "nbformat": 4,
 "nbformat_minor": 4
}
